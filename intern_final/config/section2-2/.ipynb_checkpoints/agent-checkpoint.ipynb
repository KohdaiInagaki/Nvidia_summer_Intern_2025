{
 "cells": [
  {
   "cell_type": "markdown",
   "id": "78db1c3c-3da3-460e-a67a-3701d99b4aa0",
   "metadata": {},
   "source": [
    "### オリジナルのAI-Agentを作ってみよう！ (半導体agent)"
   ]
  },
  {
   "cell_type": "markdown",
   "id": "d63e9586-dce9-4ce6-8875-2811952c0ff0",
   "metadata": {},
   "source": [
    "/workspace/intern/config/section2-1/config.ymlは未完成です。\n",
    "これを編集して半導体agentを作ってみましょう"
   ]
  },
  {
   "cell_type": "markdown",
   "id": "0a7c3407-2377-4847-993b-73b13927b471",
   "metadata": {},
   "source": [
    "#### 半導体agent概要"
   ]
  },
  {
   "cell_type": "markdown",
   "id": "1eaf2aa8-54f5-45fa-aaa2-bd26f1937a12",
   "metadata": {},
   "source": [
    "<img src=images/gpu_agent.png width=800>"
   ]
  },
  {
   "cell_type": "markdown",
   "id": "262870aa-48b3-4bf4-89e5-c4eca8e6e849",
   "metadata": {},
   "source": [
    "# コマンドまとめ"
   ]
  },
  {
   "cell_type": "markdown",
   "id": "fccad635-dd60-453a-87f1-42acdde9674f",
   "metadata": {},
   "source": [
    "### configを一回だけ試しで動かす時"
   ]
  },
  {
   "cell_type": "raw",
   "id": "37bb46fe-e80b-4411-9652-9b018c667b3b",
   "metadata": {},
   "source": [
    "cd /workspace/aiqtoolkit\n",
    "source .venv/bin/activate\n",
    "aiq run --config_file=/workspace/intern/config/section2-2/config.yml --input=\"What is AI-Q?\"　　##inputは自由"
   ]
  },
  {
   "cell_type": "markdown",
   "id": "1e6fc2f9-ceb9-496d-bb11-8ca0bf155b46",
   "metadata": {},
   "source": [
    "### アプリケーションで動かしたい時 "
   ]
  },
  {
   "cell_type": "raw",
   "id": "0dba230a-3131-4e8a-b3d8-fb3e19dc59ea",
   "metadata": {},
   "source": [
    "#ターミナルを二つ立ち上げる\n",
    "#仮想環境の立ち上げ (両方のターミナルに)\n",
    "cd /workspace/aiqtoolkit\n",
    "source .venv/bin/activate\n",
    "\n",
    "#aiqサーバーの立ち上げ(一つのターミナルに)\n",
    "aiq serve --config_file=/workspace/intern/config/section2-2/config.yml\n",
    "\n",
    "#GUIサーバーの立ち上げ(一つのターミナルに)\n",
    "cd external/aiqtoolkit-opensource-ui\n",
    "npm run dev"
   ]
  },
  {
   "cell_type": "markdown",
   "id": "1de7d843-8776-4665-8ac1-ebb9aa859329",
   "metadata": {},
   "source": [
    "### 動作確認 以下の質問を聞いてみましょう\n",
    "1. Blackwell世代のGPUでGPUコアが40以上の物は？\n",
    "2. Blackwell世代のGPUでGPUメモリが40GB以上の物は？\n",
    "3. Blackwell世代以外のGPUでGPUコアが40以上の物は？\n",
    "4. Blackwell世代以外のGPUでGPUメモリが40GB以上の物は？"
   ]
  },
  {
   "cell_type": "markdown",
   "id": "b6b99648-456c-4692-9c62-a79b193985e2",
   "metadata": {},
   "source": [
    "<img src=images/GPU_data.png>"
   ]
  },
  {
   "cell_type": "markdown",
   "id": "47274558-f979-4c6a-b56f-7dcef84d5244",
   "metadata": {},
   "source": [
    "#### GUIのリンク\n",
    "http://133.186.13.196:32274"
   ]
  },
  {
   "cell_type": "markdown",
   "id": "53c85811-d9e9-44ab-a5bd-fd4fb5f118ea",
   "metadata": {},
   "source": [
    "## 追加課題 (時間があれば)\n",
    "### 1. LLMを変えてみましょう\n",
    "### 2. 好きなツールを追加してみましょう！ (aiq info commponents -t functionsで使い方を調べてみましょう)\n",
    "\n"
   ]
  },
  {
   "cell_type": "code",
   "execution_count": null,
   "id": "d1aae3bc-4166-45b1-b4cf-25fdc4758d93",
   "metadata": {},
   "outputs": [],
   "source": []
  }
 ],
 "metadata": {
  "kernelspec": {
   "display_name": "Python 3 (ipykernel)",
   "language": "python",
   "name": "python3"
  },
  "language_info": {
   "codemirror_mode": {
    "name": "ipython",
    "version": 3
   },
   "file_extension": ".py",
   "mimetype": "text/x-python",
   "name": "python",
   "nbconvert_exporter": "python",
   "pygments_lexer": "ipython3",
   "version": "3.12.3"
  }
 },
 "nbformat": 4,
 "nbformat_minor": 5
}

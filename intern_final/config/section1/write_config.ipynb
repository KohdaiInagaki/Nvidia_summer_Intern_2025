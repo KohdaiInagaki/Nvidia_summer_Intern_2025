{
 "cells": [
  {
   "cell_type": "markdown",
   "id": "873708fb-003d-49df-81ca-11f848c456a7",
   "metadata": {},
   "source": [
    "# Configを書いてみよう"
   ]
  },
  {
   "cell_type": "markdown",
   "id": "325762b1-c64d-4145-b9c6-6d1bf3fc0847",
   "metadata": {},
   "source": [
    "まずは、config.ymlを開いてみましょう"
   ]
  },
  {
   "cell_type": "markdown",
   "id": "9bf48c19-6a60-48ef-9683-83f37f81a1ae",
   "metadata": {},
   "source": [
    "<img src=\"images/config.png\" width=700>"
   ]
  },
  {
   "cell_type": "markdown",
   "id": "e1161aea-0484-4ae3-b577-4c24382b7676",
   "metadata": {},
   "source": [
    "## 1. llms"
   ]
  },
  {
   "attachments": {},
   "cell_type": "markdown",
   "id": "57a46afe-85ac-4343-9c3d-730eb777c6be",
   "metadata": {},
   "source": [
    "### 構文\n",
    "```yaml\n",
    "llms:\n",
    "  nim_llm: #名前を定義\n",
    "    _type: nim #nimを使うことを宣言 \n",
    "    model_name: meta/llama-3.3-70b-instruct #モデル名を宣言\n",
    "    base_url: http://llama-33-70b-instruct.runai-clv01.aitrynow-run-inf.macnica.co.jp #マクニカのデータセンターにて稼働しているllmのurl\n",
    "```"
   ]
  },
  {
   "cell_type": "markdown",
   "id": "afcfeaa9-acd2-4e55-8d58-8aa2074d47eb",
   "metadata": {},
   "source": [
    "## 2. エンベディングモデル (文章埋め込みモデル）\n"
   ]
  },
  {
   "cell_type": "markdown",
   "id": "05e84f3f-bf75-4130-a44c-0fdc82549000",
   "metadata": {},
   "source": [
    "### 構文\n",
    "```yaml\n",
    "embedders:\n",
    "  milvus_embedder: #名前を定義\n",
    "    _type: nim #nimを使うことを宣言\n",
    "    model_name: nvidia/llama-3.2-nv-embedqa-1b-v2 #モデル名を宣言\n",
    "    base_url: http://llama-32-nv-embedqa-1b-v2.runai-clv01.aitrynow-run-inf.macnica.co.jp/v1 #マクニカのデータセンターにて稼働しているエンベディングモデルのurl\n",
    "```"
   ]
  },
  {
   "cell_type": "markdown",
   "id": "7fe8c271-7e41-44d3-9d83-90ae561819f8",
   "metadata": {},
   "source": [
    "## 3. リトリーバー (文章検索機能）\n"
   ]
  },
  {
   "cell_type": "markdown",
   "id": "4f52812f-a43e-48ed-939f-8ddfcfa526e2",
   "metadata": {},
   "source": [
    "### 構文\n",
    "```yaml\n",
    "retrievers:\n",
    "  mac_retriever: #名前を定義\n",
    "    _type: milvus_retriever #milvus_retrieverというaiqの関数を使うことを宣言\n",
    "    uri: http://192.168.3.116:19530  #マクニカのデータベースの場所\n",
    "    collection_name: \"demo0\"　#検索する場所の宣言 (今回はdemo0にマクニカデータを保存しているため、demo0を記述）\n",
    "    output_fields: [\"text\"]\n",
    "    embedding_model: milvus_embedder #上で定義したembeddingモデルの名前を記入\n",
    "    top_k: 10\n",
    "```"
   ]
  },
  {
   "cell_type": "markdown",
   "id": "25dcb63d-d87a-4cd0-9dfe-155b100e1a9a",
   "metadata": {},
   "source": [
    "## 4. ファンクション"
   ]
  },
  {
   "cell_type": "markdown",
   "id": "7720b18c-9aa7-4e6c-ae98-1e8ae9c3a820",
   "metadata": {},
   "source": [
    "<img src=\"images/function.png\" width=\"500\">"
   ]
  },
  {
   "cell_type": "markdown",
   "id": "3d6a52e7-a9eb-4820-a917-b2dd04df3bec",
   "metadata": {},
   "source": [
    "### 構文\n",
    "```yaml\n",
    "functions:\n",
    "  #Tool1\n",
    "  wikipedia_search:  #名前を宣言\n",
    "    _type: wiki_search #Wikipedia検索を行ってくれるaiqの関数を宣言\n",
    "    max_results: 3  #引用する記事の数を宣言\n",
    "    description: \"Useful to search for general knowledge\" #オプション2 どのような用途で使われるかを記述\n",
    "  #Tool2\n",
    "  current_datetime:　#名前を宣言\n",
    "    _type: current_datetime #現在時刻を取得するaiqの関数を宣言\n",
    "  #Tool3\n",
    "  macnica_retriever_tool:　#名前を宣言\n",
    "    _type: aiq_retriever #RAG検索を行うaiqの関数を宣言\n",
    "    retriever: mac_retriever #上で定義したレトリーバーの名前を宣言\n",
    "    topic: \"Retrieve information for personal information in Macnica\" #オプション1 どのような時RAG検索を行うかを記述\n",
    "```"
   ]
  },
  {
   "cell_type": "markdown",
   "id": "5e60d3f0-2bfd-4665-8f2d-fe9b4f20cf52",
   "metadata": {},
   "source": [
    "## 5. ワークフロー"
   ]
  },
  {
   "cell_type": "markdown",
   "id": "80919d99-5a82-41e4-9a1a-341162caf8f1",
   "metadata": {},
   "source": [
    "<img src=\"images/react.gif\" width=\"500\">\n",
    "https://www.dailydoseofds.com/ai-agents-crash-course-part-10-with-implementation/"
   ]
  },
  {
   "cell_type": "markdown",
   "id": "2aa4ed4c-b45d-4170-ac40-d170747432f8",
   "metadata": {},
   "source": [
    "### 構文\n",
    "```yaml\n",
    "workflow:\n",
    "  _type: react_agent #エージェント名\n",
    "  tool_names: [wikipedia_search, current_datetime, macnica_retriever_tool] #ツール名を宣言\n",
    "  llm_name: nim_llm #llmを宣言\n",
    "  verbose: true #ログを残すか宣言 (trueなら残す)\n",
    "  max_retries: 2 #リトライ回数\n",
    "  additional_instructions: \"最終回答は必ず日本語で答えるように！\" #出力に関する命令を記述(日本語でもok)\n",
    "```"
   ]
  },
  {
   "cell_type": "markdown",
   "id": "54abfd7a-9cb6-4d59-96fa-6526e213837f",
   "metadata": {},
   "source": [
    "# 課題 (Configをいじってagentの機能を変更してみよう)"
   ]
  },
  {
   "cell_type": "markdown",
   "id": "0d6e60b8-b691-4c8a-b8b5-73e75b9f0e3d",
   "metadata": {},
   "source": [
    "### /workspace/intern/config/section1/config.ymlを変更しましょう\n",
    "##### 以下のコマンドでconfigが正しく書けているか確認可能です！ (inputは好きなように書いてください)。"
   ]
  },
  {
   "cell_type": "raw",
   "id": "5d66788b-b6e3-49b1-a8aa-d9e0cd51a440",
   "metadata": {},
   "source": [
    "cd /workspace/aiqtoolkit\n",
    "source .venv/bin/activate\n",
    "aiq run --config_file=/workspace/intern/config/section1/config.yml --input=\"What is AI-Q?\""
   ]
  },
  {
   "cell_type": "markdown",
   "id": "7084eced-cfbe-4950-8145-6505fef964c9",
   "metadata": {},
   "source": [
    "回答が出力されれば成功です。"
   ]
  },
  {
   "cell_type": "markdown",
   "id": "1dd3f396-8433-4871-9aac-01021ad7e884",
   "metadata": {},
   "source": [
    "<img src=images/aiq_run.png>"
   ]
  },
  {
   "cell_type": "markdown",
   "id": "a670735c-ffea-44c2-9a55-ecc073422c0d",
   "metadata": {},
   "source": [
    "### 課題1 RAG検索の場所を変えてみよう"
   ]
  },
  {
   "cell_type": "markdown",
   "id": "4d6d1727-fe3f-4d6e-8ad4-62ee07e34e99",
   "metadata": {},
   "source": [
    "<img src=images/favorite_food.png width=800>"
   ]
  },
  {
   "cell_type": "markdown",
   "id": "be4f7751-6cf5-4fe8-84b9-90f49e19f1f2",
   "metadata": {},
   "source": [
    "##### RAGの設定を変えたいならretrieverを変えてみましょう\n",
    "```yaml\n",
    "retrievers:\n",
    "  mac_retriever:\n",
    "    _type: milvus_retriever \n",
    "    uri: http://192.168.3.116:19530  \n",
    "    collection_name: \"demo0\"　#検索する場所の宣言 ←ここを変えてみよう\n",
    "    output_fields: [\"text\"]\n",
    "    embedding_model: milvus_embedder \n",
    "    top_k: 10\n",
    "```"
   ]
  },
  {
   "cell_type": "markdown",
   "id": "7ca216ca-0848-46b7-9a22-a7ce923c02c2",
   "metadata": {},
   "source": [
    "#### マクニカ社員の好きな食べ物のデータが確認できれば成功です！ \n"
   ]
  },
  {
   "cell_type": "markdown",
   "id": "45930dff-c0b7-4598-9f35-741204ffd5a3",
   "metadata": {},
   "source": [
    "### 課題2 新しいツールを付け足してみよう！"
   ]
  },
  {
   "cell_type": "markdown",
   "id": "ed49d46f-149d-4da6-9e46-12b069771e8b",
   "metadata": {},
   "source": [
    "```yaml\n",
    "#webpage_query(指定したウェブサイトの検索を行うためのツール）\n",
    "functions:\n",
    "  webpage_query:\n",
    "    _type: webpage_query\n",
    "    webpage_url: https://www.macnica.co.jp  ##検索したいwebのリンク\n",
    "    description: \"Search for information about Macncia\"  \n",
    "    embedder_name: ##FIXME　（ヒント:エンベディングモデルの名前を書こう）\n",
    "```"
   ]
  },
  {
   "cell_type": "markdown",
   "id": "20fa9890-fe4f-4b42-ab75-7556ec53fb48",
   "metadata": {},
   "source": [
    "#### マクニカのホームページ(https://www.macnica.co.jp/) を検索してみましょう！"
   ]
  },
  {
   "cell_type": "code",
   "execution_count": null,
   "id": "98158acb-a46d-4dbb-a620-962f7342b272",
   "metadata": {},
   "outputs": [],
   "source": []
  }
 ],
 "metadata": {
  "kernelspec": {
   "display_name": "Python 3 (ipykernel)",
   "language": "python",
   "name": "python3"
  },
  "language_info": {
   "codemirror_mode": {
    "name": "ipython",
    "version": 3
   },
   "file_extension": ".py",
   "mimetype": "text/x-python",
   "name": "python",
   "nbconvert_exporter": "python",
   "pygments_lexer": "ipython3",
   "version": "3.12.3"
  }
 },
 "nbformat": 4,
 "nbformat_minor": 5
}

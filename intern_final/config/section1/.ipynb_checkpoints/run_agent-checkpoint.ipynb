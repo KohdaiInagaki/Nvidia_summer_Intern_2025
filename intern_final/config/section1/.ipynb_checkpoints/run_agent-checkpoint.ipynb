{
 "cells": [
  {
   "cell_type": "markdown",
   "id": "b5172422-02b0-4374-ac30-b585197717db",
   "metadata": {},
   "source": [
    "# AIQを動かしてみよう"
   ]
  },
  {
   "cell_type": "markdown",
   "id": "fa6f9a10-b8ba-41f6-bd8a-e7a6a7ab9005",
   "metadata": {},
   "source": [
    "### 1.仮想環境を立ち上げよう\n",
    "二つのターミナルが立ち上がったら以下コマンドをコピペして実行してください"
   ]
  },
  {
   "cell_type": "raw",
   "id": "4110e9a5-07b3-4285-bc7b-4b886728bbfb",
   "metadata": {},
   "source": [
    "cd /workspace/aiqtoolkit\n",
    "source .venv/bin/activate"
   ]
  },
  {
   "cell_type": "markdown",
   "id": "92b51152-2f49-4fb8-a4c2-695c6ff4970a",
   "metadata": {},
   "source": [
    "先頭に(aiqtoolkit)とついたら成功です"
   ]
  },
  {
   "cell_type": "markdown",
   "id": "bd7f3260-67f8-41c6-a872-1632c0ef9f77",
   "metadata": {},
   "source": [
    "<img src=images/venv.png>"
   ]
  },
  {
   "cell_type": "markdown",
   "id": "4b9a8498-054b-4ec1-92f7-beada61238e2",
   "metadata": {},
   "source": [
    "### 2.aiqサーバーを立ち上げよう\n",
    "ターミナル一つに対して以下のコマンドをコピペしてください"
   ]
  },
  {
   "cell_type": "raw",
   "id": "291dfa4f-8fb5-41f5-980d-b9f75af1a939",
   "metadata": {},
   "source": [
    "aiq serve --config_file=/workspace/intern/config/section1/config.yml"
   ]
  },
  {
   "cell_type": "markdown",
   "id": "9ddca84f-fe14-4a1a-bfcc-f4381a2de17b",
   "metadata": {},
   "source": [
    "#### Uvicorn running on http://localhost:8000 (Press CTRL+C to quit)  \n",
    "と見えたら成功です。"
   ]
  },
  {
   "cell_type": "markdown",
   "id": "978b9802-d9f0-4461-9658-73f7f7ff2275",
   "metadata": {},
   "source": [
    "### 3.GUIサーバーを立ち上げよう\n",
    "もう一つのターミナルに対して以下のコマンドをコピペしてください"
   ]
  },
  {
   "cell_type": "raw",
   "id": "0de6d8c8-2e81-45d4-a6fe-7c4a21533171",
   "metadata": {},
   "source": [
    "cd /workspace/aiqtoolkit/external/aiqtoolkit-opensource-ui\n",
    "npm run dev"
   ]
  },
  {
   "cell_type": "markdown",
   "id": "9648db58-c039-4781-ae11-ef221f78d3f3",
   "metadata": {},
   "source": [
    "####   ▲ Next.js 14.2.25\n",
    "#### - Local:        http://localhost:3000\n",
    "と見えたら成功です。"
   ]
  },
  {
   "cell_type": "markdown",
   "id": "318be639-2e9c-4e6b-b3e9-ed2e5f1a8533",
   "metadata": {},
   "source": [
    "### 4.AIQサーバーにアクセスしよう！\n",
    "以下のリンクにアクセスしてみましょう"
   ]
  },
  {
   "cell_type": "markdown",
   "id": "0deb2e5f-6040-4def-b5a9-c4b8037574ab",
   "metadata": {},
   "source": [
    "http://133.186.13.196:32274"
   ]
  },
  {
   "cell_type": "markdown",
   "id": "cfab8ecf-a841-45a7-8b93-a332666eb189",
   "metadata": {},
   "source": [
    "## まとめ"
   ]
  },
  {
   "cell_type": "raw",
   "id": "a1d8ae43-c47e-41bd-9b48-da8dd28f18a2",
   "metadata": {},
   "source": [
    "#仮想環境の立ち上げ (両方のターミナルに)\n",
    "cd /workspace/aiqtoolkit\n",
    "source .venv/bin/activate\n",
    "\n",
    "#aiqサーバーの立ち上げ(一つのターミナルに)\n",
    "aiq serve --config_file = /workspace/intern/config/section1/config.yml\n",
    "\n",
    "#GUIサーバーの立ち上げ(一つのターミナルに)\n",
    "cd external/aiqtoolkit-opensource-ui\n",
    "npm run dev"
   ]
  },
  {
   "cell_type": "code",
   "execution_count": null,
   "id": "19be9136-96da-42db-9618-29540e315fc6",
   "metadata": {},
   "outputs": [],
   "source": []
  },
  {
   "cell_type": "markdown",
   "id": "982fcb1b-f366-4a49-a86c-85d482069b86",
   "metadata": {},
   "source": [
    "### llmと比較してみよう"
   ]
  },
  {
   "cell_type": "code",
   "execution_count": 1,
   "id": "38fdb98f-1220-4a8c-b852-33b2db1f2f18",
   "metadata": {},
   "outputs": [],
   "source": [
    "import subprocess,json\n",
    "def llm_response(user_input):\n",
    "    data={\n",
    "      \"model\": \"meta/llama-3.3-70b-instruct\",\n",
    "      \"messages\": [\n",
    "    {\n",
    "      \"role\": \"user\",\n",
    "      \"content\": user_input\n",
    "    }\n",
    "      ],\n",
    "      \"temperature\": 0.2,\n",
    "      \"top_p\": 0.7,\n",
    "      \"frequency_penalty\": 0,\n",
    "      \"presence_penalty\": 0,\n",
    "      \"max_tokens\": 1024,\n",
    "      \"stream\": False,\n",
    "        }\n",
    "    curl_command= [\n",
    "    \"curl\",\n",
    "    \"-X\", \"POST\" ,\n",
    "    \"http://llama-33-70b-instruct.runai-clv01.aitrynow-run-inf.macnica.co.jp/v1/chat/completions\",\n",
    "    \"-H\", 'Accept: application/json',\n",
    "    \"-H\" 'Content-Type: application/json',\n",
    "    \"-d\", json.dumps(data)\n",
    "    ]\n",
    "\n",
    "    result = subprocess.run(curl_command, capture_output=True, text=True)\n",
    "    res_json = json.loads(result.stdout)\n",
    "    response = res_json[\"choices\"][0][\"message\"][\"content\"]\n",
    "\n",
    "    return response\n",
    "    \n",
    "    "
   ]
  },
  {
   "cell_type": "code",
   "execution_count": 2,
   "id": "69104f51-9b9a-4eaf-9b14-9372f88bd745",
   "metadata": {},
   "outputs": [
    {
     "name": "stdout",
     "output_type": "stream",
     "text": [
      "マリリン・モンローです。\n"
     ]
    }
   ],
   "source": [
    "input = \"今日の日付に生まれた有名人は？\"\n",
    "print(llm_response(input))"
   ]
  },
  {
   "cell_type": "code",
   "execution_count": null,
   "id": "428288a1-cac7-47b7-a620-764473219505",
   "metadata": {},
   "outputs": [],
   "source": []
  }
 ],
 "metadata": {
  "kernelspec": {
   "display_name": "Python 3 (ipykernel)",
   "language": "python",
   "name": "python3"
  },
  "language_info": {
   "codemirror_mode": {
    "name": "ipython",
    "version": 3
   },
   "file_extension": ".py",
   "mimetype": "text/x-python",
   "name": "python",
   "nbconvert_exporter": "python",
   "pygments_lexer": "ipython3",
   "version": "3.12.3"
  }
 },
 "nbformat": 4,
 "nbformat_minor": 5
}

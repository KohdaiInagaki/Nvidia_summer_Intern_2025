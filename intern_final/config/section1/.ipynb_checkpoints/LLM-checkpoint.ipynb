{
 "cells": [
  {
   "cell_type": "code",
   "execution_count": 41,
   "id": "7397b139-551f-4cbf-9961-924a4c9af1d0",
   "metadata": {},
   "outputs": [],
   "source": [
    "import subprocess,json\n",
    "def llm_response(user_input):\n",
    "    data={\n",
    "      \"model\": \"meta/llama-3.3-70b-instruct\",\n",
    "      \"messages\": [\n",
    "    {\n",
    "      \"role\": \"user\",\n",
    "      \"content\": user_input\n",
    "    }\n",
    "      ],\n",
    "      \"temperature\": 0.2,\n",
    "      \"top_p\": 0.7,\n",
    "      \"frequency_penalty\": 0,\n",
    "      \"presence_penalty\": 0,\n",
    "      \"max_tokens\": 1024,\n",
    "      \"stream\": False,\n",
    "        }\n",
    "    curl_command= [\n",
    "    \"curl\",\n",
    "    \"-X\", \"POST\" ,\n",
    "    \"http://llama-33-70b-instruct.runai-clv01.aitrynow-run-inf.macnica.co.jp/v1/chat/completions\",\n",
    "    \"-H\", 'Accept: application/json',\n",
    "    \"-H\" 'Content-Type: application/json',\n",
    "    \"-d\", json.dumps(data)\n",
    "    ]\n",
    "\n",
    "    result = subprocess.run(curl_command, capture_output=True, text=True)\n",
    "    res_json = json.loads(result.stdout)\n",
    "    response = res_json[\"choices\"][0][\"message\"][\"content\"]\n",
    "\n",
    "    return response\n",
    "    \n",
    "    "
   ]
  },
  {
   "cell_type": "markdown",
   "id": "81469ee1-4072-40aa-bb0f-6a1dd967b7a5",
   "metadata": {},
   "source": [
    "### LLMと比較してみよう"
   ]
  },
  {
   "cell_type": "code",
   "execution_count": 45,
   "id": "1c34c6f7-6ae5-44aa-bb0b-eb4724c41d67",
   "metadata": {},
   "outputs": [
    {
     "name": "stdout",
     "output_type": "stream",
     "text": [
      "ご了承ください。今日の日付に生まれたマクニカ社員を教えることは、プライバシーと個人情報の保護の観点から、提供することができません。\n"
     ]
    }
   ],
   "source": [
    "input = \"今日の日付に生まれたマクニカ社員を教えてください\"\n",
    "print(llm_response(input))"
   ]
  },
  {
   "cell_type": "code",
   "execution_count": null,
   "id": "e551e806-5674-4d95-b586-dfeb649fcef8",
   "metadata": {},
   "outputs": [],
   "source": []
  }
 ],
 "metadata": {
  "kernelspec": {
   "display_name": "Python 3 (ipykernel)",
   "language": "python",
   "name": "python3"
  },
  "language_info": {
   "codemirror_mode": {
    "name": "ipython",
    "version": 3
   },
   "file_extension": ".py",
   "mimetype": "text/x-python",
   "name": "python",
   "nbconvert_exporter": "python",
   "pygments_lexer": "ipython3",
   "version": "3.12.3"
  }
 },
 "nbformat": 4,
 "nbformat_minor": 5
}

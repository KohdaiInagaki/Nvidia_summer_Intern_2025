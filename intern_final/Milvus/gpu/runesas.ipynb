{
 "cells": [
  {
   "cell_type": "code",
   "execution_count": 3,
   "id": "44f3a5f3-01e7-4593-97f9-ef93ed111ec1",
   "metadata": {},
   "outputs": [
    {
     "name": "stdout",
     "output_type": "stream",
     "text": [
      "\u001b[33mDEPRECATION: Loading egg at /usr/local/lib/python3.12/dist-packages/nvfuser-0.2.23a0+6627725-py3.12-linux-x86_64.egg is deprecated. pip 25.1 will enforce this behaviour change. A possible replacement is to use pip for package installation. Discussion can be found at https://github.com/pypa/pip/issues/12330\u001b[0m\u001b[33m\n",
      "\u001b[0m\u001b[33mDEPRECATION: Loading egg at /usr/local/lib/python3.12/dist-packages/opt_einsum-3.4.0-py3.12.egg is deprecated. pip 25.1 will enforce this behaviour change. A possible replacement is to use pip for package installation. Discussion can be found at https://github.com/pypa/pip/issues/12330\u001b[0m\u001b[33m\n",
      "\u001b[0m\u001b[33mDEPRECATION: Loading egg at /usr/local/lib/python3.12/dist-packages/lightning_thunder-0.2.0.dev0-py3.12.egg is deprecated. pip 25.1 will enforce this behaviour change. A possible replacement is to use pip for package installation. Discussion can be found at https://github.com/pypa/pip/issues/12330\u001b[0m\u001b[33m\n",
      "\u001b[0m\u001b[33mDEPRECATION: Loading egg at /usr/local/lib/python3.12/dist-packages/lightning_utilities-0.12.0.dev0-py3.12.egg is deprecated. pip 25.1 will enforce this behaviour change. A possible replacement is to use pip for package installation. Discussion can be found at https://github.com/pypa/pip/issues/12330\u001b[0m\u001b[33m\n",
      "\u001b[0m\u001b[33mDEPRECATION: Loading egg at /usr/local/lib/python3.12/dist-packages/looseversion-1.3.0-py3.12.egg is deprecated. pip 25.1 will enforce this behaviour change. A possible replacement is to use pip for package installation. Discussion can be found at https://github.com/pypa/pip/issues/12330\u001b[0m\u001b[33m\n",
      "\u001b[0mLooking in indexes: https://pypi.org/simple, https://pypi.ngc.nvidia.com\n",
      "Requirement already satisfied: pymilvus in /usr/local/lib/python3.12/dist-packages (2.5.14)\n",
      "Requirement already satisfied: setuptools>69 in /usr/local/lib/python3.12/dist-packages (from pymilvus) (70.3.0)\n",
      "Requirement already satisfied: grpcio<=1.67.1,>=1.49.1 in /usr/local/lib/python3.12/dist-packages (from pymilvus) (1.67.1)\n",
      "Requirement already satisfied: protobuf>=3.20.0 in /usr/local/lib/python3.12/dist-packages (from pymilvus) (3.20.3)\n",
      "Requirement already satisfied: python-dotenv<2.0.0,>=1.0.1 in /usr/local/lib/python3.12/dist-packages (from pymilvus) (1.0.1)\n",
      "Requirement already satisfied: ujson>=2.0.0 in /usr/local/lib/python3.12/dist-packages (from pymilvus) (5.10.0)\n",
      "Requirement already satisfied: pandas>=1.2.4 in /usr/local/lib/python3.12/dist-packages (from pymilvus) (2.2.2)\n",
      "Requirement already satisfied: milvus-lite>=2.4.0 in /usr/local/lib/python3.12/dist-packages (from pymilvus) (2.5.1)\n",
      "Requirement already satisfied: tqdm in /usr/local/lib/python3.12/dist-packages (from milvus-lite>=2.4.0->pymilvus) (4.67.1)\n",
      "Requirement already satisfied: numpy>=1.26.0 in /usr/local/lib/python3.12/dist-packages (from pandas>=1.2.4->pymilvus) (1.26.4)\n",
      "Requirement already satisfied: python-dateutil>=2.8.2 in /usr/local/lib/python3.12/dist-packages (from pandas>=1.2.4->pymilvus) (2.9.0.post0)\n",
      "Requirement already satisfied: pytz>=2020.1 in /usr/local/lib/python3.12/dist-packages (from pandas>=1.2.4->pymilvus) (2023.4)\n",
      "Requirement already satisfied: tzdata>=2022.7 in /usr/local/lib/python3.12/dist-packages (from pandas>=1.2.4->pymilvus) (2024.2)\n",
      "Requirement already satisfied: six>=1.5 in /usr/local/lib/python3.12/dist-packages (from python-dateutil>=2.8.2->pandas>=1.2.4->pymilvus) (1.16.0)\n",
      "\u001b[33mWARNING: Running pip as the 'root' user can result in broken permissions and conflicting behaviour with the system package manager, possibly rendering your system unusable.It is recommended to use a virtual environment instead: https://pip.pypa.io/warnings/venv. Use the --root-user-action option if you know what you are doing and want to suppress this warning.\u001b[0m\u001b[33m\n",
      "\u001b[0m\n",
      "\u001b[1m[\u001b[0m\u001b[34;49mnotice\u001b[0m\u001b[1;39;49m]\u001b[0m\u001b[39;49m A new release of pip is available: \u001b[0m\u001b[31;49m24.3.1\u001b[0m\u001b[39;49m -> \u001b[0m\u001b[32;49m25.2\u001b[0m\n",
      "\u001b[1m[\u001b[0m\u001b[34;49mnotice\u001b[0m\u001b[1;39;49m]\u001b[0m\u001b[39;49m To update, run: \u001b[0m\u001b[32;49mpython -m pip install --upgrade pip\u001b[0m\n",
      "\u001b[33mDEPRECATION: Loading egg at /usr/local/lib/python3.12/dist-packages/nvfuser-0.2.23a0+6627725-py3.12-linux-x86_64.egg is deprecated. pip 25.1 will enforce this behaviour change. A possible replacement is to use pip for package installation. Discussion can be found at https://github.com/pypa/pip/issues/12330\u001b[0m\u001b[33m\n",
      "\u001b[0m\u001b[33mDEPRECATION: Loading egg at /usr/local/lib/python3.12/dist-packages/opt_einsum-3.4.0-py3.12.egg is deprecated. pip 25.1 will enforce this behaviour change. A possible replacement is to use pip for package installation. Discussion can be found at https://github.com/pypa/pip/issues/12330\u001b[0m\u001b[33m\n",
      "\u001b[0m\u001b[33mDEPRECATION: Loading egg at /usr/local/lib/python3.12/dist-packages/lightning_thunder-0.2.0.dev0-py3.12.egg is deprecated. pip 25.1 will enforce this behaviour change. A possible replacement is to use pip for package installation. Discussion can be found at https://github.com/pypa/pip/issues/12330\u001b[0m\u001b[33m\n",
      "\u001b[0m\u001b[33mDEPRECATION: Loading egg at /usr/local/lib/python3.12/dist-packages/lightning_utilities-0.12.0.dev0-py3.12.egg is deprecated. pip 25.1 will enforce this behaviour change. A possible replacement is to use pip for package installation. Discussion can be found at https://github.com/pypa/pip/issues/12330\u001b[0m\u001b[33m\n",
      "\u001b[0m\u001b[33mDEPRECATION: Loading egg at /usr/local/lib/python3.12/dist-packages/looseversion-1.3.0-py3.12.egg is deprecated. pip 25.1 will enforce this behaviour change. A possible replacement is to use pip for package installation. Discussion can be found at https://github.com/pypa/pip/issues/12330\u001b[0m\u001b[33m\n",
      "\u001b[0mLooking in indexes: https://pypi.org/simple, https://pypi.ngc.nvidia.com\n",
      "Collecting pyPdf\n",
      "  Downloading pypdf-5.9.0-py3-none-any.whl.metadata (7.1 kB)\n",
      "Downloading pypdf-5.9.0-py3-none-any.whl (313 kB)\n",
      "Installing collected packages: pyPdf\n",
      "Successfully installed pyPdf-5.9.0\n",
      "\u001b[33mWARNING: Running pip as the 'root' user can result in broken permissions and conflicting behaviour with the system package manager, possibly rendering your system unusable.It is recommended to use a virtual environment instead: https://pip.pypa.io/warnings/venv. Use the --root-user-action option if you know what you are doing and want to suppress this warning.\u001b[0m\u001b[33m\n",
      "\u001b[0m\n",
      "\u001b[1m[\u001b[0m\u001b[34;49mnotice\u001b[0m\u001b[1;39;49m]\u001b[0m\u001b[39;49m A new release of pip is available: \u001b[0m\u001b[31;49m24.3.1\u001b[0m\u001b[39;49m -> \u001b[0m\u001b[32;49m25.2\u001b[0m\n",
      "\u001b[1m[\u001b[0m\u001b[34;49mnotice\u001b[0m\u001b[1;39;49m]\u001b[0m\u001b[39;49m To update, run: \u001b[0m\u001b[32;49mpython -m pip install --upgrade pip\u001b[0m\n"
     ]
    }
   ],
   "source": [
    "!pip install pymilvus\n",
    "!pip install pyPdf"
   ]
  },
  {
   "cell_type": "code",
   "execution_count": 4,
   "id": "93fcd912-cb61-4fea-a567-72c4456e5e09",
   "metadata": {},
   "outputs": [],
   "source": [
    "\n",
    "from pymilvus import MilvusClient, DataType\n",
    "client = MilvusClient(uri=\"http://192.168.3.116:19530\")"
   ]
  },
  {
   "cell_type": "code",
   "execution_count": 6,
   "id": "d00da119-861f-41a1-8080-81b8ae4a894b",
   "metadata": {},
   "outputs": [],
   "source": [
    "collection_name = \"gpus\"\n",
    "embedding_dim=2048\n",
    "if client.has_collection(collection_name=collection_name):\n",
    "    client.drop_collection(collection_name=collection_name)"
   ]
  },
  {
   "cell_type": "code",
   "execution_count": 21,
   "id": "33fcf932-236b-42fc-9e78-8d773139c042",
   "metadata": {},
   "outputs": [],
   "source": [
    "\n",
    "schema = client.create_schema(auto_id=False, enable_dynamic_field=False)\n",
    "schema.add_field(field_name=\"id\", datatype=DataType.VARCHAR, is_primary=True,max_length=65535)\n",
    "schema.add_field(field_name=\"vector\", datatype=DataType.FLOAT_VECTOR, dim=embedding_dim)\n",
    "schema.add_field(field_name=\"text\", datatype=DataType.VARCHAR, max_length=65535)\n",
    "schema.add_field(field_name=\"metadata\", datatype=DataType.VARCHAR, max_length=65535)\n",
    "\n",
    "index_params = MilvusClient.prepare_index_params()\n",
    "index_params.add_index(\n",
    "    field_name=\"vector\",\n",
    "    metric_type=\"L2\",\n",
    "    index_type=\"AUTOINDEX\",\n",
    ")\n",
    "\n",
    "if client.has_collection(collection_name=collection_name):\n",
    "    client.drop_collection(collection_name=collection_name)\n",
    "client.create_collection(\n",
    "    collection_name=collection_name,\n",
    "    schema=schema,\n",
    "    index_params=index_params,\n",
    "    consistency_level=\"Strong\",\n",
    ")\n",
    "\n",
    "client.load_collection(collection_name=collection_name)\n"
   ]
  },
  {
   "cell_type": "code",
   "execution_count": 16,
   "id": "8156e790-5d09-4487-b1a5-f004aea217d7",
   "metadata": {},
   "outputs": [],
   "source": [
    "from pypdf import PdfReader\n",
    "\n",
    "def pdf_text(path):# pageは配列\n",
    "    reader = PdfReader(path)\n",
    "    #texts = [reader.pages[i].extract_text() or \"\" for i in page ]\n",
    "    texts = [ j.extract_text() or \"\" for j in reader.pages]\n",
    "    return \" \".join(texts)\n",
    "\n",
    "#def clean_cut_text(text):\n",
    "#    text2 = text.replace(\"\\n\",\"\")\n",
    "#   return text2.split(\".\")\n",
    "\n",
    "def clean_cut_text(text):\n",
    "    text2 = text.replace(\"\\n\", \"\")\n",
    "    clean_text_list = [s.strip() for s in text2.split(\".\") if s.strip()]\n",
    "    sentence = \"\"\n",
    "    for j in clean_text_list:\n",
    "        sentence = sentence + j + \" \"\n",
    "    return sentence\n",
    "\n",
    "def extract_pdf(path):\n",
    "    text = pdf_text(path)\n",
    "    texts = clean_cut_text(text)\n",
    "    return texts\n",
    "\n",
    "def chunk_text_by_chars(text, name, chunk_size=512, overlap=50):\n",
    "    chunks = []\n",
    "    start = 0\n",
    "    while start < len(text):\n",
    "        end = start + chunk_size\n",
    "        chunks.append(f\"{name} is {text[start:end]}\")\n",
    "        start += chunk_size - overlap\n",
    "    return chunks\n",
    "\n",
    "\n",
    "\n"
   ]
  },
  {
   "cell_type": "code",
   "execution_count": 13,
   "id": "4d5a4a36-e5fd-45e6-967b-5022139e198d",
   "metadata": {},
   "outputs": [],
   "source": [
    "names = [\"blackwell-rtx-pro-4000\",\"blackwell-rtx-pro-5000\",\"blackwell-rtx-pro-4500\",\n",
    "         \"rtx-4500\",\"rtx-2000-ada\",\"a800-40gb\",\"blackwell-rtx-pro-6000\",\"rtx-4000-ada\",\n",
    "         \"rtx-4000-sff-ada\",\"rtx-5880-ada\",\"blackwell-rtx-pro-6000-max-q\",\"rtx6000\"]"
   ]
  },
  {
   "cell_type": "code",
   "execution_count": 14,
   "id": "207c1d08-9e2a-487e-a475-d91505262ec6",
   "metadata": {},
   "outputs": [],
   "source": [
    "import os\n",
    "#ファイル名と製品名を記入\n",
    "PATH = \"/workspace/Datasheet\"\n",
    "files = os.listdir(f\"{PATH}/GPU/\")"
   ]
  },
  {
   "cell_type": "code",
   "execution_count": 17,
   "id": "949a5682-f212-441e-b845-876a083e7149",
   "metadata": {},
   "outputs": [],
   "source": [
    "product_name = []\n",
    "product_chunks = []\n",
    "for i in range(len(files)):\n",
    "    texts = extract_pdf(f\"{PATH}/GPU/{files[i]}\")\n",
    "    chunks = chunk_text_by_chars(texts,names[i])\n",
    "    product_chunks = product_chunks + chunks\n",
    "    for j in range(len(chunks)):\n",
    "        product_name.append(names[i])"
   ]
  },
  {
   "cell_type": "code",
   "execution_count": 18,
   "id": "f036e7b9-2260-4798-a86e-2487de7dc7e6",
   "metadata": {},
   "outputs": [],
   "source": [
    "import requests\n",
    "import json\n",
    "\n",
    "url = \"http://llama-32-nv-embedqa-1b-v2.runai-clv01.aitrynow-run-inf.macnica.co.jp/v1/embeddings\"\n",
    "\n",
    "headers = {\n",
    "    \"Content-Type\": \"application/json\"\n",
    "}\n",
    "\n",
    "def embedding(text):\n",
    "    payload ={\n",
    "    \"input\": text,\n",
    "    \"model\": \"nvidia/llama-3.2-nv-embedqa-1b-v2\",\n",
    "    \"input_type\": \"passage\",\n",
    "    \"encoding_format\": \"float\",\n",
    "    \"dimensions\": None,\n",
    "    \"user\": \"user-identifier\",\n",
    "    \"truncate\": \"NONE\"\n",
    "  }\n",
    "\n",
    "    return requests.post(url, headers=headers, data=json.dumps(payload)).json()['data'][0]['embedding']\n",
    "    "
   ]
  },
  {
   "cell_type": "code",
   "execution_count": null,
   "id": "a74ebe62-4e13-4c22-ba9b-94b7d1fbc653",
   "metadata": {},
   "outputs": [],
   "source": []
  },
  {
   "cell_type": "code",
   "execution_count": 19,
   "id": "e0e661a9-c590-44b9-8f66-25e8aeca8fc7",
   "metadata": {},
   "outputs": [
    {
     "name": "stdout",
     "output_type": "stream",
     "text": [
      "Dim: (2048,)\n",
      "Data has 152 entities, each with fields:  dict_keys(['id', 'vector', 'text', 'metadata'])\n",
      "Vector dim: 2048\n"
     ]
    }
   ],
   "source": [
    "import numpy as np\n",
    "vectors = []\n",
    "\n",
    "for i in product_chunks:\n",
    "    vectors.append(np.array(embedding(i)))\n",
    "print(\"Dim:\", vectors[0].shape)  # Dim: 768 (768,)\n",
    "\n",
    "data = [\n",
    "    {\"id\": str(i), \"vector\": vectors[i], \"text\": product_chunks[i],\"metadata\": product_name[i]}\n",
    "    for i in range(len(vectors))\n",
    "]\n",
    "\n",
    "print(\"Data has\", len(data), \"entities, each with fields: \", data[0].keys())\n",
    "print(\"Vector dim:\", len(data[0][\"vector\"]))"
   ]
  },
  {
   "cell_type": "code",
   "execution_count": 22,
   "id": "64b46c84-e78d-417b-8717-8cf781332987",
   "metadata": {},
   "outputs": [
    {
     "name": "stdout",
     "output_type": "stream",
     "text": [
      "{'insert_count': 152, 'ids': ['0', '1', '2', '3', '4', '5', '6', '7', '8', '9', '10', '11', '12', '13', '14', '15', '16', '17', '18', '19', '20', '21', '22', '23', '24', '25', '26', '27', '28', '29', '30', '31', '32', '33', '34', '35', '36', '37', '38', '39', '40', '41', '42', '43', '44', '45', '46', '47', '48', '49', '50', '51', '52', '53', '54', '55', '56', '57', '58', '59', '60', '61', '62', '63', '64', '65', '66', '67', '68', '69', '70', '71', '72', '73', '74', '75', '76', '77', '78', '79', '80', '81', '82', '83', '84', '85', '86', '87', '88', '89', '90', '91', '92', '93', '94', '95', '96', '97', '98', '99', '100', '101', '102', '103', '104', '105', '106', '107', '108', '109', '110', '111', '112', '113', '114', '115', '116', '117', '118', '119', '120', '121', '122', '123', '124', '125', '126', '127', '128', '129', '130', '131', '132', '133', '134', '135', '136', '137', '138', '139', '140', '141', '142', '143', '144', '145', '146', '147', '148', '149', '150', '151']}\n"
     ]
    }
   ],
   "source": [
    "res = client.insert(collection_name=collection_name, data=data)\n",
    "\n",
    "print(res)"
   ]
  },
  {
   "cell_type": "code",
   "execution_count": null,
   "id": "fb6984d7-5b4c-496b-b286-c980ad899f61",
   "metadata": {},
   "outputs": [],
   "source": []
  }
 ],
 "metadata": {
  "kernelspec": {
   "display_name": "Python 3 (ipykernel)",
   "language": "python",
   "name": "python3"
  },
  "language_info": {
   "codemirror_mode": {
    "name": "ipython",
    "version": 3
   },
   "file_extension": ".py",
   "mimetype": "text/x-python",
   "name": "python",
   "nbconvert_exporter": "python",
   "pygments_lexer": "ipython3",
   "version": "3.12.3"
  }
 },
 "nbformat": 4,
 "nbformat_minor": 5
}

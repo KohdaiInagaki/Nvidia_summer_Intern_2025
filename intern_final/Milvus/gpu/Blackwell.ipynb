{
 "cells": [
  {
   "cell_type": "code",
   "execution_count": 2,
   "id": "93fcd912-cb61-4fea-a567-72c4456e5e09",
   "metadata": {},
   "outputs": [
    {
     "name": "stderr",
     "output_type": "stream",
     "text": [
      "/usr/local/lib/python3.12/dist-packages/google/protobuf/runtime_version.py:98: UserWarning: Protobuf gencode version 5.27.2 is exactly one major version older than the runtime version 6.31.1 at schema.proto. Please update the gencode to avoid compatibility violations in the next runtime release.\n",
      "  warnings.warn(\n",
      "/usr/local/lib/python3.12/dist-packages/google/protobuf/runtime_version.py:98: UserWarning: Protobuf gencode version 5.27.2 is exactly one major version older than the runtime version 6.31.1 at common.proto. Please update the gencode to avoid compatibility violations in the next runtime release.\n",
      "  warnings.warn(\n",
      "/usr/local/lib/python3.12/dist-packages/google/protobuf/runtime_version.py:98: UserWarning: Protobuf gencode version 5.27.2 is exactly one major version older than the runtime version 6.31.1 at milvus.proto. Please update the gencode to avoid compatibility violations in the next runtime release.\n",
      "  warnings.warn(\n",
      "/usr/local/lib/python3.12/dist-packages/google/protobuf/runtime_version.py:98: UserWarning: Protobuf gencode version 5.27.2 is exactly one major version older than the runtime version 6.31.1 at rg.proto. Please update the gencode to avoid compatibility violations in the next runtime release.\n",
      "  warnings.warn(\n",
      "/usr/local/lib/python3.12/dist-packages/google/protobuf/runtime_version.py:98: UserWarning: Protobuf gencode version 5.27.2 is exactly one major version older than the runtime version 6.31.1 at feder.proto. Please update the gencode to avoid compatibility violations in the next runtime release.\n",
      "  warnings.warn(\n",
      "/usr/local/lib/python3.12/dist-packages/google/protobuf/runtime_version.py:98: UserWarning: Protobuf gencode version 5.27.2 is exactly one major version older than the runtime version 6.31.1 at msg.proto. Please update the gencode to avoid compatibility violations in the next runtime release.\n",
      "  warnings.warn(\n"
     ]
    }
   ],
   "source": [
    "\n",
    "from pymilvus import MilvusClient, DataType\n",
    "client = MilvusClient(uri=\"http://192.168.3.116:19530\")"
   ]
  },
  {
   "cell_type": "code",
   "execution_count": 4,
   "id": "d00da119-861f-41a1-8080-81b8ae4a894b",
   "metadata": {},
   "outputs": [],
   "source": [
    "collection_name = \"blackwell\"\n",
    "embedding_dim=2048\n",
    "if client.has_collection(collection_name=collection_name):\n",
    "    client.drop_collection(collection_name=collection_name)"
   ]
  },
  {
   "cell_type": "code",
   "execution_count": 5,
   "id": "33fcf932-236b-42fc-9e78-8d773139c042",
   "metadata": {},
   "outputs": [],
   "source": [
    "\n",
    "schema = client.create_schema(auto_id=False, enable_dynamic_field=False)\n",
    "schema.add_field(field_name=\"id\", datatype=DataType.VARCHAR, is_primary=True,max_length=65535)\n",
    "schema.add_field(field_name=\"vector\", datatype=DataType.FLOAT_VECTOR, dim=embedding_dim)\n",
    "schema.add_field(field_name=\"text\", datatype=DataType.VARCHAR, max_length=65535)\n",
    "schema.add_field(field_name=\"metadata\", datatype=DataType.VARCHAR, max_length=65535)\n",
    "\n",
    "index_params = MilvusClient.prepare_index_params()\n",
    "index_params.add_index(\n",
    "    field_name=\"vector\",\n",
    "    metric_type=\"L2\",\n",
    "    index_type=\"AUTOINDEX\",\n",
    ")\n",
    "\n",
    "if client.has_collection(collection_name=collection_name):\n",
    "    client.drop_collection(collection_name=collection_name)\n",
    "client.create_collection(\n",
    "    collection_name=collection_name,\n",
    "    schema=schema,\n",
    "    index_params=index_params,\n",
    "    consistency_level=\"Strong\",\n",
    ")\n",
    "\n",
    "client.load_collection(collection_name=collection_name)\n"
   ]
  },
  {
   "cell_type": "code",
   "execution_count": 6,
   "id": "8156e790-5d09-4487-b1a5-f004aea217d7",
   "metadata": {},
   "outputs": [],
   "source": [
    "from pypdf import PdfReader\n",
    "\n",
    "def pdf_text(path):# pageは配列\n",
    "    reader = PdfReader(path)\n",
    "    #texts = [reader.pages[i].extract_text() or \"\" for i in page ]\n",
    "    texts = [ j.extract_text() or \"\" for j in reader.pages]\n",
    "    return \" \".join(texts)\n",
    "\n",
    "#def clean_cut_text(text):\n",
    "#    text2 = text.replace(\"\\n\",\"\")\n",
    "#   return text2.split(\".\")\n",
    "\n",
    "def clean_cut_text(text):\n",
    "    text2 = text.replace(\"\\n\", \"\")\n",
    "    clean_text_list = [s.strip() for s in text2.split(\".\") if s.strip()]\n",
    "    sentence = \"\"\n",
    "    for j in clean_text_list:\n",
    "        sentence = sentence + j + \" \"\n",
    "    return sentence\n",
    "\n",
    "def extract_pdf(path):\n",
    "    text = pdf_text(path)\n",
    "    texts = clean_cut_text(text)\n",
    "    return texts\n",
    "\n",
    "def chunk_text_by_chars(text, name, chunk_size=512, overlap=50):\n",
    "    chunks = []\n",
    "    start = 0\n",
    "    while start < len(text):\n",
    "        end = start + chunk_size\n",
    "        chunks.append(f\"{name} is {text[start:end]}\")\n",
    "        start += chunk_size - overlap\n",
    "    return chunks\n",
    "\n",
    "\n",
    "\n"
   ]
  },
  {
   "cell_type": "code",
   "execution_count": 17,
   "id": "207c1d08-9e2a-487e-a475-d91505262ec6",
   "metadata": {},
   "outputs": [],
   "source": [
    "import os\n",
    "#ファイル名と製品名を記入\n",
    "PATH = \"/workspace/intern/Datasheet\"\n",
    "files = os.listdir(f\"{PATH}/GPU/Blackwell\")\n",
    "files = [file for file in os.listdir(f\"{PATH}/GPU/Blackwell\") if file.endswith(\".pdf\")]"
   ]
  },
  {
   "cell_type": "code",
   "execution_count": 18,
   "id": "4d5a4a36-e5fd-45e6-967b-5022139e198d",
   "metadata": {},
   "outputs": [],
   "source": [
    "names = [\"blackwell-rtx-pro-4000\",\"blackwell-rtx-pro-5000\",\"blackwell-rtx-pro-4500\",\n",
    "          \"blackwell-rtx-pro-6000\",\"blackwell-rtx-pro-6000-max-q\"]"
   ]
  },
  {
   "cell_type": "code",
   "execution_count": 19,
   "id": "949a5682-f212-441e-b845-876a083e7149",
   "metadata": {},
   "outputs": [],
   "source": [
    "product_name = []\n",
    "product_chunks = []\n",
    "for i in range(len(files)):\n",
    "    texts = extract_pdf(f\"{PATH}/GPU/Blackwell/{files[i]}\")\n",
    "    chunks = chunk_text_by_chars(texts,names[i])\n",
    "    product_chunks = product_chunks + chunks\n",
    "    for j in range(len(chunks)):\n",
    "        product_name.append(names[i])"
   ]
  },
  {
   "cell_type": "code",
   "execution_count": 20,
   "id": "f036e7b9-2260-4798-a86e-2487de7dc7e6",
   "metadata": {},
   "outputs": [],
   "source": [
    "import requests\n",
    "import json\n",
    "\n",
    "url = \"http://llama-32-nv-embedqa-1b-v2.runai-clv01.aitrynow-run-inf.macnica.co.jp/v1/embeddings\"\n",
    "\n",
    "headers = {\n",
    "    \"Content-Type\": \"application/json\"\n",
    "}\n",
    "\n",
    "def embedding(text):\n",
    "    payload ={\n",
    "    \"input\": text,\n",
    "    \"model\": \"nvidia/llama-3.2-nv-embedqa-1b-v2\",\n",
    "    \"input_type\": \"passage\",\n",
    "    \"encoding_format\": \"float\",\n",
    "    \"dimensions\": None,\n",
    "    \"user\": \"user-identifier\",\n",
    "    \"truncate\": \"NONE\"\n",
    "  }\n",
    "\n",
    "    return requests.post(url, headers=headers, data=json.dumps(payload)).json()['data'][0]['embedding']\n",
    "    "
   ]
  },
  {
   "cell_type": "code",
   "execution_count": null,
   "id": "a74ebe62-4e13-4c22-ba9b-94b7d1fbc653",
   "metadata": {},
   "outputs": [],
   "source": []
  },
  {
   "cell_type": "code",
   "execution_count": 21,
   "id": "e0e661a9-c590-44b9-8f66-25e8aeca8fc7",
   "metadata": {},
   "outputs": [
    {
     "name": "stdout",
     "output_type": "stream",
     "text": [
      "Dim: (2048,)\n",
      "Data has 78 entities, each with fields:  dict_keys(['id', 'vector', 'text', 'metadata'])\n",
      "Vector dim: 2048\n"
     ]
    }
   ],
   "source": [
    "import numpy as np\n",
    "vectors = []\n",
    "\n",
    "for i in product_chunks:\n",
    "    vectors.append(np.array(embedding(i)))\n",
    "print(\"Dim:\", vectors[0].shape)  # Dim: 768 (768,)\n",
    "\n",
    "data = [\n",
    "    {\"id\": str(i), \"vector\": vectors[i], \"text\": product_chunks[i],\"metadata\": product_name[i]}\n",
    "    for i in range(len(vectors))\n",
    "]\n",
    "\n",
    "print(\"Data has\", len(data), \"entities, each with fields: \", data[0].keys())\n",
    "print(\"Vector dim:\", len(data[0][\"vector\"]))"
   ]
  },
  {
   "cell_type": "code",
   "execution_count": 22,
   "id": "64b46c84-e78d-417b-8717-8cf781332987",
   "metadata": {},
   "outputs": [
    {
     "name": "stdout",
     "output_type": "stream",
     "text": [
      "{'insert_count': 78, 'ids': ['0', '1', '2', '3', '4', '5', '6', '7', '8', '9', '10', '11', '12', '13', '14', '15', '16', '17', '18', '19', '20', '21', '22', '23', '24', '25', '26', '27', '28', '29', '30', '31', '32', '33', '34', '35', '36', '37', '38', '39', '40', '41', '42', '43', '44', '45', '46', '47', '48', '49', '50', '51', '52', '53', '54', '55', '56', '57', '58', '59', '60', '61', '62', '63', '64', '65', '66', '67', '68', '69', '70', '71', '72', '73', '74', '75', '76', '77']}\n"
     ]
    }
   ],
   "source": [
    "res = client.insert(collection_name=collection_name, data=data)\n",
    "\n",
    "print(res)"
   ]
  },
  {
   "cell_type": "code",
   "execution_count": null,
   "id": "fb6984d7-5b4c-496b-b286-c980ad899f61",
   "metadata": {},
   "outputs": [],
   "source": []
  }
 ],
 "metadata": {
  "kernelspec": {
   "display_name": "Python 3 (ipykernel)",
   "language": "python",
   "name": "python3"
  },
  "language_info": {
   "codemirror_mode": {
    "name": "ipython",
    "version": 3
   },
   "file_extension": ".py",
   "mimetype": "text/x-python",
   "name": "python",
   "nbconvert_exporter": "python",
   "pygments_lexer": "ipython3",
   "version": "3.12.3"
  }
 },
 "nbformat": 4,
 "nbformat_minor": 5
}

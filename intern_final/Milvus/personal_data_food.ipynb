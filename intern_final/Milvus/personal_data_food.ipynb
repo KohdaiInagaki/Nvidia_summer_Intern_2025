{
 "cells": [
  {
   "cell_type": "code",
   "execution_count": 2,
   "id": "ac411eec-1ec9-4eba-a157-2052bd2564a7",
   "metadata": {},
   "outputs": [],
   "source": [
    "from pymilvus import MilvusClient, DataType\n",
    "client = MilvusClient(uri=\"http://192.168.3.116:19530\")"
   ]
  },
  {
   "cell_type": "code",
   "execution_count": 3,
   "id": "6ae0ef21-a2fd-41e5-a3be-2510b6b24555",
   "metadata": {},
   "outputs": [],
   "source": [
    "collection_name = \"demo1\"\n",
    "embedding_dim=2048\n",
    "if client.has_collection(collection_name=collection_name):\n",
    "    client.drop_collection(collection_name=collection_name)"
   ]
  },
  {
   "cell_type": "code",
   "execution_count": 4,
   "id": "7e09821c-39d4-47aa-99bb-19fde92c68df",
   "metadata": {},
   "outputs": [],
   "source": [
    "\n",
    "schema = client.create_schema(auto_id=False, enable_dynamic_field=False)\n",
    "schema.add_field(field_name=\"id\", datatype=DataType.VARCHAR, is_primary=True,max_length=65535)\n",
    "schema.add_field(field_name=\"vector\", datatype=DataType.FLOAT_VECTOR, dim=embedding_dim)\n",
    "schema.add_field(field_name=\"text\", datatype=DataType.VARCHAR, max_length=65535)\n",
    "\n",
    "\n",
    "index_params = MilvusClient.prepare_index_params()\n",
    "index_params.add_index(\n",
    "    field_name=\"vector\",\n",
    "    metric_type=\"L2\",\n",
    "    index_type=\"AUTOINDEX\",\n",
    ")\n",
    "\n",
    "if client.has_collection(collection_name=collection_name):\n",
    "    client.drop_collection(collection_name=collection_name)\n",
    "client.create_collection(\n",
    "    collection_name=collection_name,\n",
    "    schema=schema,\n",
    "    index_params=index_params,\n",
    "    consistency_level=\"Strong\",\n",
    ")\n",
    "\n",
    "client.load_collection(collection_name=collection_name)\n"
   ]
  },
  {
   "cell_type": "code",
   "execution_count": 5,
   "id": "1e7d6bb4-ddb8-47c7-b229-2080169a46d7",
   "metadata": {},
   "outputs": [],
   "source": [
    "import requests\n",
    "import json\n",
    "\n",
    "url = \"http://llama-32-nv-embedqa-1b-v2.runai-clv01.aitrynow-run-inf.macnica.co.jp/v1/embeddings\"\n",
    "\n",
    "headers = {\n",
    "    \"Content-Type\": \"application/json\"\n",
    "}\n",
    "\n",
    "def embedding(text):\n",
    "    payload ={\n",
    "    \"input\": text,\n",
    "    \"model\": \"nvidia/llama-3.2-nv-embedqa-1b-v2\",\n",
    "    \"input_type\": \"passage\",\n",
    "    \"encoding_format\": \"float\",\n",
    "    \"dimensions\": None,\n",
    "    \"user\": \"user-identifier\",\n",
    "    \"truncate\": \"NONE\"\n",
    "  }\n",
    "\n",
    "    return requests.post(url, headers=headers, data=json.dumps(payload)).json()['data'][0]['embedding']\n",
    "    "
   ]
  },
  {
   "cell_type": "code",
   "execution_count": 6,
   "id": "81c2e7a6-02f5-47fc-b7cc-ea06bcf2021e",
   "metadata": {},
   "outputs": [],
   "source": [
    "import pandas as pd\n",
    "data = pd.read_csv('/data/aiqtoolkit/intern/vector_setup/datas/personal_data/personal_info.csv')"
   ]
  },
  {
   "cell_type": "code",
   "execution_count": 8,
   "id": "edc2d868-9bf5-497c-b699-7a3b3e036cf4",
   "metadata": {},
   "outputs": [],
   "source": [
    "food = ['カレー','寿司','天ぷら','ラーメン','ハンバーガー']"
   ]
  },
  {
   "cell_type": "code",
   "execution_count": 15,
   "id": "1ec911e9-d3ea-4b7f-bd12-b145dc8f683b",
   "metadata": {},
   "outputs": [
    {
     "data": {
      "text/plain": [
       "[{'id': '0',\n",
       "  'vector': array([ 0.00156307, -0.04971313,  0.02215576, ..., -0.0109787 ,\n",
       "          0.00145817, -0.03640747]),\n",
       "  'text': '稲垣洸大(Kohdai Inagaki)の好きな食べ物はカレーです'},\n",
       " {'id': '1',\n",
       "  'vector': array([ 0.00142384, -0.05780029,  0.02093506, ..., -0.00853729,\n",
       "         -0.0049324 , -0.04696655]),\n",
       "  'text': '川辺空雅(Kuga Kawabe)の好きな食べ物は寿司です'},\n",
       " {'id': '2',\n",
       "  'vector': array([-0.0041008 , -0.03997803,  0.01319122, ..., -0.0292511 ,\n",
       "         -0.02142334, -0.04980469]),\n",
       "  'text': '小寺玲(Rei Kotera)の好きな食べ物は天ぷらです'},\n",
       " {'id': '3',\n",
       "  'vector': array([-0.00562668, -0.0567627 ,  0.00391388, ..., -0.0085907 ,\n",
       "         -0.02664185, -0.03863525]),\n",
       "  'text': '北島佑樹(Yuki Kitajima)の好きな食べ物はラーメンです'},\n",
       " {'id': '4',\n",
       "  'vector': array([ 0.0189209 , -0.05471802,  0.00457382, ...,  0.00196457,\n",
       "          0.00424194, -0.02818298]),\n",
       "  'text': '吉田龍太郎(Ryutaro Yoshida)の好きな食べ物はハンバーガーです'}]"
      ]
     },
     "execution_count": 15,
     "metadata": {},
     "output_type": "execute_result"
    }
   ],
   "source": [
    "data"
   ]
  },
  {
   "cell_type": "code",
   "execution_count": 9,
   "id": "bd47ac3e-2ffd-48aa-8fbf-a58e593bbe49",
   "metadata": {},
   "outputs": [],
   "source": [
    "data['food'] = food"
   ]
  },
  {
   "cell_type": "code",
   "execution_count": 10,
   "id": "f750a451-059c-4c4c-bbcc-abf26bbe514d",
   "metadata": {},
   "outputs": [],
   "source": [
    "personal_texts = []\n",
    "for i in range(len(data)):\n",
    "    one = data.loc[i]\n",
    "    text = f\"{one[\"氏名\"]}({one[\"ローマ字\"]})の好きな食べ物は{one[\"food\"]}です\"\n",
    "    personal_texts.append(text)"
   ]
  },
  {
   "cell_type": "code",
   "execution_count": 13,
   "id": "3eb9489a-3839-4058-8493-8a13b29b45e2",
   "metadata": {},
   "outputs": [
    {
     "name": "stdout",
     "output_type": "stream",
     "text": [
      "Dim: (2048,)\n",
      "Data has 5 entities, each with fields:  dict_keys(['id', 'vector', 'text'])\n",
      "Vector dim: 2048\n"
     ]
    }
   ],
   "source": [
    "import numpy as np\n",
    "vectors = []\n",
    "\n",
    "for i in personal_texts:\n",
    "    vectors.append(np.array(embedding(i)))\n",
    "print(\"Dim:\", vectors[0].shape)  # Dim: 768 (768,)\n",
    "\n",
    "data = [\n",
    "    {\"id\": str(i), \"vector\": vectors[i], \"text\": personal_texts[i]}\n",
    "    for i in range(len(vectors))\n",
    "]\n",
    "\n",
    "print(\"Data has\", len(data), \"entities, each with fields: \", data[0].keys())\n",
    "print(\"Vector dim:\", len(data[0][\"vector\"]))"
   ]
  },
  {
   "cell_type": "code",
   "execution_count": 14,
   "id": "8e6c9b7a-8ac1-4ff5-8b23-bf43518f1e7a",
   "metadata": {},
   "outputs": [
    {
     "name": "stdout",
     "output_type": "stream",
     "text": [
      "{'insert_count': 5, 'ids': ['0', '1', '2', '3', '4']}\n"
     ]
    }
   ],
   "source": [
    "res = client.insert(collection_name=collection_name, data=data)\n",
    "\n",
    "print(res)"
   ]
  },
  {
   "cell_type": "code",
   "execution_count": 25,
   "id": "6bc35b67-9042-494d-8869-cb3df83263ea",
   "metadata": {},
   "outputs": [],
   "source": [
    "query_vectors = [[0.1]*2048] \n",
    "res = client.search(\n",
    "            collection_name=collection_name,\n",
    "            data=query_vectors,\n",
    "            limit=2,\n",
    "            output_fields=[\"text\"],\n",
    "        )"
   ]
  },
  {
   "cell_type": "code",
   "execution_count": 26,
   "id": "cd36f108-2b75-48be-bbb5-cc765e30726e",
   "metadata": {},
   "outputs": [
    {
     "data": {
      "text/plain": [
       "[{'id': '3', 'distance': 21.618587493896484, 'entity': {'text': '北島佑樹(Yuki Kitajima)は8月5日(August 5th)生まれです'}}]"
      ]
     },
     "execution_count": 26,
     "metadata": {},
     "output_type": "execute_result"
    }
   ],
   "source": [
    "res[0]"
   ]
  },
  {
   "cell_type": "code",
   "execution_count": 153,
   "id": "1581f798-311a-4916-a526-07f48336225d",
   "metadata": {},
   "outputs": [],
   "source": [
    "import pandas as pd\n",
    "\n",
    "def make_data(j_name, en_name, j_birth, en_birth):\n",
    "    data = [{\n",
    "        \"氏名\": j_name,\n",
    "        \"ローマ字\": en_name,\n",
    "        \"生年月日\": j_birth,\n",
    "        \"birthday\": en_birth\n",
    "    }]\n",
    "    return pd.DataFrame(data)\n",
    "\n",
    "\n",
    "def insert_data(data, client, collection_name, embedding_func):\n",
    "    # テキスト生成\n",
    "    text = f\"{data['氏名'].values[0]} ({data['ローマ字'].values[0]}) は {data['生年月日'].values[0]} ({data['birthday'].values[0]}) 生まれです\"\n",
    "    \n",
    "    # ベクトル化\n",
    "    vector = embedding_func(text)\n",
    "\n",
    "    # 既存の要素数を確認し、idを重複しないように付与\n",
    "    row_count = int(client.get_collection_stats(collection_name)[\"row_count\"])\n",
    "    new_id = str(row_count + 1)\n",
    "\n",
    "    # 挿入データ構築\n",
    "    insert_payload = [{\n",
    "        \"id\": new_id,\n",
    "        \"vector\": vector,\n",
    "        \"text\": text\n",
    "    }]\n",
    "\n",
    "    # 挿入\n",
    "    res = client.insert(collection_name=collection_name, data=insert_payload)\n",
    "    client.flush(collection_name)\n",
    "    return res\n"
   ]
  },
  {
   "cell_type": "code",
   "execution_count": 154,
   "id": "5f41ca28-b1ac-42df-a8c7-e205ca4f7435",
   "metadata": {},
   "outputs": [],
   "source": [
    "a = make_data(\"越野陵駕\",\"Koshino Ryoga\",\"8月6日\",\"August 6th\")\n",
    "b = insert_data(a,client,collection_name,embedding)"
   ]
  }
 ],
 "metadata": {
  "kernelspec": {
   "display_name": "Python 3 (ipykernel)",
   "language": "python",
   "name": "python3"
  },
  "language_info": {
   "codemirror_mode": {
    "name": "ipython",
    "version": 3
   },
   "file_extension": ".py",
   "mimetype": "text/x-python",
   "name": "python",
   "nbconvert_exporter": "python",
   "pygments_lexer": "ipython3",
   "version": "3.12.3"
  }
 },
 "nbformat": 4,
 "nbformat_minor": 5
}

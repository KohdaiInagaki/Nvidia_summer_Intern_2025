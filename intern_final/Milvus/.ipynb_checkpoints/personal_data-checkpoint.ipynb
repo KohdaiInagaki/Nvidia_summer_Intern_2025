{
 "cells": [
  {
   "cell_type": "code",
   "execution_count": 1,
   "id": "ac411eec-1ec9-4eba-a157-2052bd2564a7",
   "metadata": {},
   "outputs": [],
   "source": [
    "from pymilvus import MilvusClient, DataType\n",
    "client = MilvusClient(uri=\"http://192.168.3.116:19530\")"
   ]
  },
  {
   "cell_type": "code",
   "execution_count": 2,
   "id": "6ae0ef21-a2fd-41e5-a3be-2510b6b24555",
   "metadata": {},
   "outputs": [],
   "source": [
    "collection_name = \"demo0\"\n",
    "embedding_dim=2048\n",
    "if client.has_collection(collection_name=collection_name):\n",
    "    client.drop_collection(collection_name=collection_name)"
   ]
  },
  {
   "cell_type": "code",
   "execution_count": 3,
   "id": "7e09821c-39d4-47aa-99bb-19fde92c68df",
   "metadata": {},
   "outputs": [],
   "source": [
    "\n",
    "schema = client.create_schema(auto_id=False, enable_dynamic_field=False)\n",
    "schema.add_field(field_name=\"id\", datatype=DataType.VARCHAR, is_primary=True,max_length=65535)\n",
    "schema.add_field(field_name=\"vector\", datatype=DataType.FLOAT_VECTOR, dim=embedding_dim)\n",
    "schema.add_field(field_name=\"text\", datatype=DataType.VARCHAR, max_length=65535)\n",
    "\n",
    "\n",
    "index_params = MilvusClient.prepare_index_params()\n",
    "index_params.add_index(\n",
    "    field_name=\"vector\",\n",
    "    metric_type=\"L2\",\n",
    "    index_type=\"AUTOINDEX\",\n",
    ")\n",
    "\n",
    "if client.has_collection(collection_name=collection_name):\n",
    "    client.drop_collection(collection_name=collection_name)\n",
    "client.create_collection(\n",
    "    collection_name=collection_name,\n",
    "    schema=schema,\n",
    "    index_params=index_params,\n",
    "    consistency_level=\"Strong\",\n",
    ")\n",
    "\n",
    "client.load_collection(collection_name=collection_name)\n"
   ]
  },
  {
   "cell_type": "code",
   "execution_count": 4,
   "id": "1e7d6bb4-ddb8-47c7-b229-2080169a46d7",
   "metadata": {},
   "outputs": [],
   "source": [
    "import requests\n",
    "import json\n",
    "\n",
    "url = \"http://llama-32-nv-embedqa-1b-v2.runai-clv01.aitrynow-run-inf.macnica.co.jp/v1/embeddings\"\n",
    "\n",
    "headers = {\n",
    "    \"Content-Type\": \"application/json\"\n",
    "}\n",
    "\n",
    "def embedding(text):\n",
    "    payload ={\n",
    "    \"input\": text,\n",
    "    \"model\": \"nvidia/llama-3.2-nv-embedqa-1b-v2\",\n",
    "    \"input_type\": \"passage\",\n",
    "    \"encoding_format\": \"float\",\n",
    "    \"dimensions\": None,\n",
    "    \"user\": \"user-identifier\",\n",
    "    \"truncate\": \"NONE\"\n",
    "  }\n",
    "\n",
    "    return requests.post(url, headers=headers, data=json.dumps(payload)).json()['data'][0]['embedding']\n",
    "    "
   ]
  },
  {
   "cell_type": "code",
   "execution_count": 7,
   "id": "81c2e7a6-02f5-47fc-b7cc-ea06bcf2021e",
   "metadata": {},
   "outputs": [],
   "source": [
    "import pandas as pd\n",
    "data = pd.read_csv('/data/aiqtoolkit/intern/vector_setup/datas/personal_data/personal_info.csv')"
   ]
  },
  {
   "cell_type": "code",
   "execution_count": 8,
   "id": "edc2d868-9bf5-497c-b699-7a3b3e036cf4",
   "metadata": {},
   "outputs": [
    {
     "data": {
      "text/html": [
       "<div>\n",
       "<style scoped>\n",
       "    .dataframe tbody tr th:only-of-type {\n",
       "        vertical-align: middle;\n",
       "    }\n",
       "\n",
       "    .dataframe tbody tr th {\n",
       "        vertical-align: top;\n",
       "    }\n",
       "\n",
       "    .dataframe thead th {\n",
       "        text-align: right;\n",
       "    }\n",
       "</style>\n",
       "<table border=\"1\" class=\"dataframe\">\n",
       "  <thead>\n",
       "    <tr style=\"text-align: right;\">\n",
       "      <th></th>\n",
       "      <th>氏名</th>\n",
       "      <th>生年月日</th>\n",
       "      <th>ローマ字</th>\n",
       "      <th>birthday</th>\n",
       "    </tr>\n",
       "  </thead>\n",
       "  <tbody>\n",
       "    <tr>\n",
       "      <th>0</th>\n",
       "      <td>稲垣洸大</td>\n",
       "      <td>7月29日</td>\n",
       "      <td>Kohdai Inagaki</td>\n",
       "      <td>July 29th</td>\n",
       "    </tr>\n",
       "    <tr>\n",
       "      <th>1</th>\n",
       "      <td>川辺空雅</td>\n",
       "      <td>8月4日</td>\n",
       "      <td>Kuga Kawabe</td>\n",
       "      <td>August 4th</td>\n",
       "    </tr>\n",
       "    <tr>\n",
       "      <th>2</th>\n",
       "      <td>小寺玲</td>\n",
       "      <td>8月3日</td>\n",
       "      <td>Rei Kotera</td>\n",
       "      <td>August 3rd</td>\n",
       "    </tr>\n",
       "    <tr>\n",
       "      <th>3</th>\n",
       "      <td>北島佑樹</td>\n",
       "      <td>8月5日</td>\n",
       "      <td>Yuki Kitajima</td>\n",
       "      <td>August 5th</td>\n",
       "    </tr>\n",
       "    <tr>\n",
       "      <th>4</th>\n",
       "      <td>吉田龍太郎</td>\n",
       "      <td>8月3日</td>\n",
       "      <td>Ryutaro Yoshida</td>\n",
       "      <td>August 3rd</td>\n",
       "    </tr>\n",
       "  </tbody>\n",
       "</table>\n",
       "</div>"
      ],
      "text/plain": [
       "      氏名   生年月日             ローマ字    birthday\n",
       "0   稲垣洸大  7月29日   Kohdai Inagaki   July 29th\n",
       "1   川辺空雅   8月4日      Kuga Kawabe  August 4th\n",
       "2    小寺玲   8月3日       Rei Kotera  August 3rd\n",
       "3   北島佑樹   8月5日    Yuki Kitajima  August 5th\n",
       "4  吉田龍太郎   8月3日  Ryutaro Yoshida  August 3rd"
      ]
     },
     "execution_count": 8,
     "metadata": {},
     "output_type": "execute_result"
    }
   ],
   "source": [
    "data"
   ]
  },
  {
   "cell_type": "code",
   "execution_count": 9,
   "id": "f750a451-059c-4c4c-bbcc-abf26bbe514d",
   "metadata": {},
   "outputs": [],
   "source": [
    "personal_texts = []\n",
    "for i in range(len(data)):\n",
    "    one = data.loc[i]\n",
    "    text = f\"{one[\"氏名\"]}({one[\"ローマ字\"]})は{one[\"生年月日\"]}({one[\"birthday\"]})生まれです\"\n",
    "    personal_texts.append(text)"
   ]
  },
  {
   "cell_type": "code",
   "execution_count": 10,
   "id": "3eb9489a-3839-4058-8493-8a13b29b45e2",
   "metadata": {},
   "outputs": [
    {
     "name": "stdout",
     "output_type": "stream",
     "text": [
      "Dim: (2048,)\n",
      "Data has 5 entities, each with fields:  dict_keys(['id', 'vector', 'text'])\n",
      "Vector dim: 2048\n"
     ]
    }
   ],
   "source": [
    "import numpy as np\n",
    "vectors = []\n",
    "\n",
    "for i in personal_texts:\n",
    "    vectors.append(np.array(embedding(i)))\n",
    "print(\"Dim:\", vectors[0].shape)  # Dim: 768 (768,)\n",
    "\n",
    "data = [\n",
    "    {\"id\": str(i), \"vector\": vectors[i], \"text\": personal_texts[i]}\n",
    "    for i in range(len(vectors))\n",
    "]\n",
    "\n",
    "print(\"Data has\", len(data), \"entities, each with fields: \", data[0].keys())\n",
    "print(\"Vector dim:\", len(data[0][\"vector\"]))"
   ]
  },
  {
   "cell_type": "code",
   "execution_count": 20,
   "id": "8e6c9b7a-8ac1-4ff5-8b23-bf43518f1e7a",
   "metadata": {},
   "outputs": [
    {
     "name": "stdout",
     "output_type": "stream",
     "text": [
      "{'insert_count': 5, 'ids': ['0', '1', '2', '3', '4']}\n"
     ]
    }
   ],
   "source": [
    "res = client.insert(collection_name=collection_name, data=data)\n",
    "\n",
    "print(res)"
   ]
  },
  {
   "cell_type": "code",
   "execution_count": 21,
   "id": "6bc35b67-9042-494d-8869-cb3df83263ea",
   "metadata": {},
   "outputs": [],
   "source": [
    "query_vectors = [[0.1]*2048] \n",
    "res = client.search(\n",
    "            collection_name=collection_name,\n",
    "            data=query_vectors,\n",
    "            limit=2,\n",
    "            output_fields=[\"text\"]\n",
    "        )"
   ]
  },
  {
   "cell_type": "code",
   "execution_count": 24,
   "id": "cd36f108-2b75-48be-bbb5-cc765e30726e",
   "metadata": {},
   "outputs": [
    {
     "data": {
      "text/plain": [
       "[{'id': '3', 'distance': 21.618587493896484, 'entity': {'text': '北島佑樹(Yuki Kitajima)は8月5日(August 5th)生まれです'}}]"
      ]
     },
     "execution_count": 24,
     "metadata": {},
     "output_type": "execute_result"
    }
   ],
   "source": [
    "res[0]"
   ]
  },
  {
   "cell_type": "code",
   "execution_count": 153,
   "id": "1581f798-311a-4916-a526-07f48336225d",
   "metadata": {},
   "outputs": [],
   "source": [
    "import pandas as pd\n",
    "\n",
    "def make_data(j_name, en_name, j_birth, en_birth):\n",
    "    data = [{\n",
    "        \"氏名\": j_name,\n",
    "        \"ローマ字\": en_name,\n",
    "        \"生年月日\": j_birth,\n",
    "        \"birthday\": en_birth\n",
    "    }]\n",
    "    return pd.DataFrame(data)\n",
    "\n",
    "\n",
    "def insert_data(data, client, collection_name, embedding_func):\n",
    "    # テキスト生成\n",
    "    text = f\"{data['氏名'].values[0]} ({data['ローマ字'].values[0]}) は {data['生年月日'].values[0]} ({data['birthday'].values[0]}) 生まれです\"\n",
    "    \n",
    "    # ベクトル化\n",
    "    vector = embedding_func(text)\n",
    "\n",
    "    # 既存の要素数を確認し、idを重複しないように付与\n",
    "    row_count = int(client.get_collection_stats(collection_name)[\"row_count\"])\n",
    "    new_id = str(row_count + 1)\n",
    "\n",
    "    # 挿入データ構築\n",
    "    insert_payload = [{\n",
    "        \"id\": new_id,\n",
    "        \"vector\": vector,\n",
    "        \"text\": text\n",
    "    }]\n",
    "\n",
    "    # 挿入\n",
    "    res = client.insert(collection_name=collection_name, data=insert_payload)\n",
    "    client.flush(collection_name)\n",
    "    return res\n"
   ]
  },
  {
   "cell_type": "code",
   "execution_count": 154,
   "id": "5f41ca28-b1ac-42df-a8c7-e205ca4f7435",
   "metadata": {},
   "outputs": [],
   "source": [
    "a = make_data(\"越野陵駕\",\"Koshino Ryoga\",\"8月6日\",\"August 6th\")\n",
    "b = insert_data(a,client,collection_name,embedding)"
   ]
  }
 ],
 "metadata": {
  "kernelspec": {
   "display_name": "Python 3 (ipykernel)",
   "language": "python",
   "name": "python3"
  },
  "language_info": {
   "codemirror_mode": {
    "name": "ipython",
    "version": 3
   },
   "file_extension": ".py",
   "mimetype": "text/x-python",
   "name": "python",
   "nbconvert_exporter": "python",
   "pygments_lexer": "ipython3",
   "version": "3.12.3"
  }
 },
 "nbformat": 4,
 "nbformat_minor": 5
}
